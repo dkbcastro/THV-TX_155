{
 "cells": [
  {
   "cell_type": "markdown",
   "metadata": {
    "id": "G0BcK0H_G1Iu"
   },
   "source": [
    "# **AP155 Lab Assignment**\n",
    "## Module 1: Integrals and Derivatives\n",
    "\n",
    "_Instructions_: Answer each problem as completely as you can. Discuss **all** your answers as clearly and concisely as possible.\n",
    "\n",
    "_Scoring Criteria_: 50% - *correctness of code*; 50% - *discussion of the code and results*. Maximum score is **100 points**.\n",
    "\n",
    "\n"
   ]
  },
  {
   "cell_type": "markdown",
   "metadata": {
    "id": "PeHZ9kP8JaVR"
   },
   "source": [
    "### Student Information\n",
    "\n",
    "_Full Name (Last Name, First Name)_: Castro, Denise Kyla\\\n",
    "_Student No._: 2022-10832\\\n",
    "_Section_: THV-TX-1"
   ]
  },
  {
   "cell_type": "markdown",
   "metadata": {
    "id": "Hc183co-J4eI"
   },
   "source": [
    "### Submission Information\n",
    "\n",
    "_Date and Time Submitted (most recent upload)_: September 20, 2023 - 4:05 PM\n",
    "\n",
    "**HONOR PLEDGE** I affirm that I have upheld the highest principles of honesty and integrity in my academic work and that this lab assignment is my own work.\n",
    "\n",
    "**Sign here with your full name:** Denise Kyla B. Castro"
   ]
  },
  {
   "cell_type": "markdown",
   "metadata": {
    "id": "X1UGsRpW-eQs"
   },
   "source": [
    "### Grading Information (c/o Lab Instructor)\n",
    "\n",
    "TOTAL SCORE: **XX**/100\n",
    "\n",
    "Score breakdown:\n",
    "* Problem 1 - XX/30\n",
    "* Problem 2 - XX/30\n",
    "* Problem 3 - XX/40\n",
    "\n",
    "_Date and Time Scored (MM/DD/YYYY HH:MM AM/PM):_"
   ]
  },
  {
   "cell_type": "markdown",
   "metadata": {
    "id": "LxWuqiCFMsEh"
   },
   "source": [
    "### PROBLEM 1\n",
    "**Integration using the trapezoidal rule and Simpson's rule**\n",
    "\n",
    "Calculate the integral of the function $ 2x^4 + 3x^2 + 4x + 5$ from $x=0$ to $x=5$.\n",
    "\n",
    "1. Do the numerical calculation using the trapezoidal rule with 10, 100, and 1,000 slices. Describe each step of the calculation clearly and concisely. *(10 pts.)*\n",
    "\n",
    "2. What are the percentage errors of your answers in (1)? *(10 pts.)*\n",
    "\n",
    "3. Repeat the calculation using Simpson's rule with 10, 100, and 1,000 slices. Describe each step of the calculation clearly and concisely. *(5 pts.)*\n",
    "\n",
    "4. What are the percentage errors of your answers in (3)? How do they compare with the results from (1) for the same number of slices? *(5 pts.)*\n",
    "\n",
    "**Code Explanation**\n",
    "1. To calculate the integral function given, I first defined the function and created a list N to store the number of intervals (or slices) for the trapezoidal rule: N = [10, 100, 1000]. I then used a for loop to iterate through each value in N and applied the trapezoidal rule to approximate the integral for each number of slices. To make my code more efficient, I initialized an empty list called results to store the calculated values of the integral. Each time the loop runs and computes the integral (I_trapezoidal), the result is appended to this list. Once all the values are calculated, I used another for loop to print out the results, pairing each computed value in the results list with its corresponding number of slices from N.\n",
    "\n",
    "2. To calculate the percent error, I first defined the exact value of the integral as exact_answer = 1450. Then, I implemented a for loop that iterates through each element in the results list (containing the approximated integral values). For each value, the loop applies the percent error formula: I created another empty list, percent_errors, to store the computed percent error for each iteration. After that, I used a second for loop to print out the percent error for each value of N, so I could see how the error decreases as the number of slices increases.\n",
    "\n",
    "3. I started the code by importing the numpy lib, which was used in the latter part of the code. I then defined the function integ_simp with its parameters. Inside the def function contains the equations and loops needed to implement Simpson's rule. The first loop iterates over the odd values of k which multiplies 4 to f(a+kh) to the sum s. While the second loop iterates over the even values of k which multiplies 2 to f(a+kh) to the sum s. To complete the simpson's rule, the final sum of s is multiplied to h/3. In the second part of this code, I made use of the numpy lib wherein I made an array of N for each slice (N = 10, 100, 1000) and stored it in N_arr. I also defined the bounds here and made an array that has the same length as N_arr for the results and percent errors. Lastly, I made a for loop that iterates over the indices of N_arr to compute the integral for different values of N and print the result with its corresponding N value. \n",
    "\n",
    "4. To present the percent errors, I created another loop for the percent errors, following the same process as the previous loop but using a different formula."
   ]
  },
  {
   "cell_type": "code",
   "execution_count": 26,
   "metadata": {
    "id": "hMqWOsbIMoUh"
   },
   "outputs": [
    {
     "name": "stdout",
     "output_type": "stream",
     "text": [
      "The answer for the integral function is 1471.4375 when N = 10\n",
      "The answer for the integral function is 1450.2145812500003 when N = 100\n",
      "The answer for the integral function is 1450.0021458331234 when N = 1000\n"
     ]
    }
   ],
   "source": [
    "def f(x):\n",
    "    return 2*x**4 + 3*x**2 + 4*x + 5                                #Define the function\n",
    "    \n",
    "N = [10, 100, 1000]                                                 # Array of slices\n",
    "results = []                                                        # Empty list to combine the results for every N\n",
    "for i in N :                                                        # For loop to iterate for every slice\n",
    "    a = 0                                                           # Defining varibales: lower boundary of the integral\n",
    "    b = 5                                                           # Defining variables: upper boundary of the integral\n",
    "    h = (b-a)/i                                                     # Width of each subinterval \n",
    "    s= 0.5*f(a) +0.5*f(b)\n",
    "    for k in range (1,i) :\n",
    "        s += f(a+k*h)\n",
    "    I_trapezoidal = h*s\n",
    "    results.append(I_trapezoidal)\n",
    "\n",
    "for ky, result in enumerate(results):\n",
    "    print(f\"The answer for the integral function is {result} when N = {N[ky]}\")"
   ]
  },
  {
   "cell_type": "code",
   "execution_count": 27,
   "metadata": {},
   "outputs": [
    {
     "name": "stdout",
     "output_type": "stream",
     "text": [
      "The percent error is 1.478448275862069% when N = 10\n",
      "The percent error is 0.014798706896569988% when N = 100\n",
      "The percent error is 0.00014798849127240326% when N = 1000\n"
     ]
    }
   ],
   "source": [
    "exact_answer = 1450\n",
    "percent_errors = []\n",
    "for j in results :\n",
    "    percent_error = ((j - exact_answer)/exact_answer)*100\n",
    "    percent_errors.append(percent_error)\n",
    "\n",
    "for pb, error in enumerate(percent_errors) :\n",
    "        print(f\"The percent error is {error}% when N = {N[pb]}\")"
   ]
  },
  {
   "cell_type": "code",
   "execution_count": 28,
   "metadata": {},
   "outputs": [
    {
     "name": "stdout",
     "output_type": "stream",
     "text": [
      "The answer for the integral function is 1450.0833333333333 for N = 10\n",
      "The answer for the integral function is 1450.0000083333337 for N = 100\n",
      "The answer for the integral function is 1450.0000000008342 for N = 1000\n"
     ]
    }
   ],
   "source": [
    "import numpy as np\n",
    "\n",
    "def integ_simp(N, a, b):  # Defines the function integ_simp with parameters N (number of subintervals), a (lower bound), and b (upper bound)\n",
    "    h = (b-a)/N           # Width of the each subinterval\n",
    "    s = f(a) + f(b)       # Sums the function f defined at a and b\n",
    "    for k in range(1,N,2): # Loops over the odd values of k\n",
    "        s += 4*f(a+k*h)\n",
    "    for k in range(2,N,2): # Loops over the even values of k\n",
    "        s += 2*f(a+k*h)\n",
    "    s = s*(1./3)*h         # Final sum of s is multiplied by h/3 to complete Simpson's rule\n",
    "    return(s)\n",
    "\n",
    "# Run the calculations for N = 10, 100, 1000\n",
    "# Get integrals for different values of N\n",
    "N_arr = np.array([10, 100, 1000])\n",
    "a = 0.0                                 # Lower Bound Value\n",
    "b = 5.0                                 # Upper Bound Value\n",
    "s_arr = np.zeros(len(N_arr))            # Array of zeroes with the same length as N_arr; will store results of integral approximation for each N value\n",
    "pct_arr = np.zeros(len(N_arr))          # Array of zeroes with the same length as N_arr; will store percent errors of results for each N value\n",
    "for jk in np.arange(len(N_arr)):               \n",
    "    s_arr[jk] = integ_simp(N_arr[jk], a, b) # Get integrals\n",
    "    print(f\"The answer for the integral function is {s_arr[jk]} for N = {N_arr[jk]}\")\n"
   ]
  },
  {
   "cell_type": "code",
   "execution_count": 29,
   "metadata": {},
   "outputs": [
    {
     "name": "stdout",
     "output_type": "stream",
     "text": [
      "The percent error is 0.005747126436776382n% for N = 10\n",
      "The percent error is 5.747126657485657e-07n% for N = 100\n",
      "The percent error is 5.753338035870472e-11n% for N = 1000\n"
     ]
    }
   ],
   "source": [
    "for lea in np.arange(len(N_arr)):\n",
    "    pct_arr[lea] = (s_arr[lea] - exact_s)/exact_s * 100\n",
    "    print(f\"The percent error is {pct_arr[lea]}n% for N = {N_arr[lea]}\")"
   ]
  },
  {
   "cell_type": "markdown",
   "metadata": {
    "id": "m2a6sg90R-NX"
   },
   "source": [
    "### PROBLEM 2\n",
    "\n",
    "**Integration using Gaussian quadrature**\n",
    "\n",
    "Calculate the integral from Problem 1 using the Gaussian quadrature method: $ 2x^4 + 3x^2 + 4x + 5$ from $x=0$ to $x=5$.\n",
    "\n",
    "1. Define the function $\\tt gaussxw$ from Appendix E of the Newman text (and run the cell). *(10 pts.)*\n",
    "\n",
    "2. Calculate the integral using the $\\tt gaussxw$ function in (1) and number of slices $N = 3$. Describe each step in the calculation clearly and concisely. *(20 pts.)*\n",
    "\n",
    "**Code Explanation**\n",
    "1. I copy pasted the function gaussxw from Appendix E of the Newman text, then downloaded the packages needed so that it could run effectively in my code.\n",
    "2. In this part, I used the Gaussian quadrature method to calculate the given integral. I started the code by defining my function and variables. Using the gaussxw function, the code generates the appropriate points and weights for the Gaussian quadrature based on N. Lastly, I ran a for loop to calculate the sum to estimate the value for the integral and printed the answer.\n",
    "\n"
   ]
  },
  {
   "cell_type": "code",
   "execution_count": 30,
   "metadata": {
    "id": "YO_PDJ4VIVs5"
   },
   "outputs": [],
   "source": [
    "\n",
    "from numpy import ones,copy,cos,tan,pi,linspace\n",
    "\n",
    "def gaussxw(N) :\n",
    "    # Initial approximation to roots of the Legendre polynomial\n",
    "    a = linspace(3,4*N-1,N)/(4*N+2)\n",
    "    x = cos(pi*a+1/(8*N*N*tan(a)))\n",
    "    # Find roots using Newton's method\n",
    "    epsilon = 1e-15\n",
    "    delta = 1.0\n",
    "    while delta>epsilon:\n",
    "        p0 = ones(N,float)\n",
    "        p1 = copy(x)\n",
    "        for k in range(1,N) :\n",
    "            p0, p1 = p1,((2*k+1)*x*p1-k*p0)/(k+1)\n",
    "        dp = (N+1)*(p0-x*p1)/(1-x*x)\n",
    "        dx = p1/dp\n",
    "        x -= dx\n",
    "        delta = max(abs(dx))\n",
    "    # Calculate the weights\n",
    "    w = 2*(N+1)*(N+1)/(N*N*(1-x*x)*dp*dp)\n",
    "\n",
    "    return x,w\n",
    "def gaussxwab(N,a,b) :\n",
    "    x,w = gaussxw(N)\n",
    "    return 0.5*(b-a)*x+0.5*(b+a), 0.5*(b-a)\n",
    "    "
   ]
  },
  {
   "cell_type": "code",
   "execution_count": 31,
   "metadata": {},
   "outputs": [
    {
     "name": "stdout",
     "output_type": "stream",
     "text": [
      "The answer for the integral function is 1450.000000000002 for N = 3\n"
     ]
    }
   ],
   "source": [
    "def f(x):\n",
    "    return 2*x**4 + 3*x**2 + 4*x + 5\n",
    "\n",
    "N = 3   # Number of slices\n",
    "a = 0.0 # Lower bound of the integral\n",
    "b = 5.0 # Upper bound of the integral\n",
    "\n",
    "#Calculate the sample points and weights, then map them to the required integration domain\n",
    "x,w = gaussxw(N)\n",
    "# Rescales the sample points and weights for the given domain [a,b]\n",
    "xp = 0.5*(b-a)*x + 0.5*(b+a)\n",
    "wp = 0.5*(b-a)*w\n",
    "\n",
    "s = 0.0\n",
    "for k in range(N):\n",
    "    s += wp[k]*f(xp[k])  #Calulates the sum to get the estimate for the integral\n",
    "print(f\"The answer for the integral function is {s} for N = 3\")"
   ]
  },
  {
   "cell_type": "markdown",
   "metadata": {
    "id": "HceOjNu-VfN9"
   },
   "source": [
    "### PROBLEM 3\n",
    "\n",
    "**Physics Application: Anharmonic Oscillator**\n",
    "\n",
    "_Refer to Exercise 5.10 of the Newman text._ Consider an anharmonic oscillator with potential $V(x)$ symmetric about $x = 0$. Let us set our anharmonic oscillator going with amplitude $a$. That is, at $t = 0$ we release it from rest at position $x = a$ and it swings back towards the origin. Then at $t = 0$ we have $dx/dt = 0$ and the equation for its total energy becomes $E = V(a)$, i.e., the total energy of the particle is given in terms of the amplitude.\n",
    "\n",
    "When the particle reaches the origin for the first time, it has gone through one quarter of a period of the oscillator. The period $T$ is given by: $$ T = \\sqrt{8m} \\int_0^a \\frac{dx}{\\sqrt{V(a)-V(x)}}. $$\n",
    "\n",
    "1. Suppose the potential is $V(x) = x^4$ and the mass of the particle is $m = 1$. Write a Python function that calculates the period of the oscillator for given amplitude a using Gaussian quadrature with $N = 20$ points. Describe each step clearly and concisely. *(20 pts.)*\n",
    "\n",
    "2. Use your function to make a graph of the period for amplitudes ranging from $a = 0$ to $a = 2$. Describe the behavior you find and explain these results clearly and concisely. *(20 pts.)*\n",
    "\n",
    "**Code Explanation**\n",
    "1. To start the code, I first defined the variables and the function for the period of the oscillator. I applied the np function to run a squareroot operation and set my functions to $V(A) = A^4$ and $V(x) = x^4$. Then, I applied the Gaussian quadrature method from Problem #2 to calculate the period for a given amplitude. In the last part of the code, it prompts the user to input an amplitude value and, after doing so, prints both the entered amplitude and the calculated period.\n",
    "2. I imported the matplotlib.pyplot library so that I would be able to plot graphs. In this section, I defined the amplitude values using the linspace function, which creates an array of evenly spaced values between 0.1 and 2, with N points. The lower bound is set to 0.1 instead of 0 because no oscillation happens when A = 0. Then, I created a for loop that iterates over the indices of the Amplitude array, using range(len(Amplitude)) to generate a sequence of numbers from 0 to the length of the array. Within the loop, I used the gauss function to calculate the period for each specific amplitude, where N is the number of quadrature points and Amplitude[i] is the current amplitude being processed. I also initialized an empty list called Period to store the resulting periods. For each iteration of the loop, the calculated period is added to this list. Finally, I created a plot of Amplitude vs. Period, setting the labels for the x- and y-axes, and added a title to the graph."
   ]
  },
  {
   "cell_type": "code",
   "execution_count": 32,
   "metadata": {
    "id": "p28JF-OQYock"
   },
   "outputs": [
    {
     "name": "stdout",
     "output_type": "stream",
     "text": [
      "Amplitude (A) = 1.0\n",
      "Period (T) = 3.648094084043215\n"
     ]
    }
   ],
   "source": [
    "# Define Variables\n",
    "N = 20  # N points\n",
    "m = 1   # mass of the particle\n",
    "a = 0   # lower bound of the period integral function\n",
    "\n",
    "# Define the period of the oscillator\n",
    "def T(x,A) :\n",
    "    return np.sqrt(8*m)/np.sqrt(A**4 - x**4)\n",
    "\n",
    "# Use the Gaussian quadrature to calculate for the period for a given amplitude\n",
    "def gauss(N,b):\n",
    "    x,w = gaussxw(N)\n",
    "    xp = 0.5*(b-a)*x + 0.5*(b+a)\n",
    "    wp = 0.5*(b-a)*w\n",
    "\n",
    "    s = 0.0\n",
    "    for k in range(N):\n",
    "        s += wp[k]*T(xp[k],b)\n",
    "    return s\n",
    "\n",
    "# This part asks an amplitude value to be entered and after entering, it will print out the resulting period\n",
    "Amp = float(input(\"Enter Amplitude Value: \"))\n",
    "print( \"Amplitude (A) = \"+ str(Amp)) \n",
    "print(\"Period (T) = \" + str(gauss(N,Amp))) # gauss(N,Amp)) calculates the period based on the amplitude input by the user"
   ]
  },
  {
   "cell_type": "code",
   "execution_count": 33,
   "metadata": {},
   "outputs": [
    {
     "data": {
      "image/png": "[encoded data removed]",
      "text/plain": [
       "<Figure size 640x480 with 1 Axes>"
      ]
     },
     "metadata": {},
     "output_type": "display_data"
    }
   ],
   "source": [
    "import matplotlib.pyplot as plt\n",
    "\n",
    "Amplitude = np.linspace(0.1,2,N)\n",
    "Period = []\n",
    "\n",
    "for i in range(len(Amplitude)):\n",
    "    period = gauss(N,Amplitude[i])\n",
    "    Period.append(period)\n",
    "\n",
    "plt.plot(Amplitude,Period)\n",
    "plt.xlabel(\"Amplitude (m)\")\n",
    "plt.ylabel(\"Period (s)\")\n",
    "plt.title(\"Graph of the Anharmonic Oscillator\")\n",
    "plt.show()"
   ]
  }
 ],
 "metadata": {
  "colab": {
   "provenance": []
  },
  "kernelspec": {
   "display_name": "Python 3 (ipykernel)",
   "language": "python",
   "name": "python3"
  },
  "language_info": {
   "codemirror_mode": {
    "name": "ipython",
    "version": 3
   },
   "file_extension": ".py",
   "mimetype": "text/x-python",
   "name": "python",
   "nbconvert_exporter": "python",
   "pygments_lexer": "ipython3",
   "version": "3.12.5"
  }
 },
 "nbformat": 4,
 "nbformat_minor": 4
}
